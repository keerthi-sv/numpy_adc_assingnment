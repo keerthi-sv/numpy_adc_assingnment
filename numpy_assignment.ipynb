{
 "cells": [
  {
   "cell_type": "code",
   "execution_count": 2,
   "id": "58318300",
   "metadata": {},
   "outputs": [
    {
     "name": "stdout",
     "output_type": "stream",
     "text": [
      "1-dimensional array:\n",
      "[1 2 3 4 5]\n",
      "\n",
      "2-dimensional array:\n",
      "[[1 2 3]\n",
      " [4 5 6]]\n",
      "\n",
      "Array of zeros:\n",
      "[[0. 0. 0. 0.]\n",
      " [0. 0. 0. 0.]\n",
      " [0. 0. 0. 0.]]\n",
      "\n",
      "Array of ones:\n",
      "[[1. 1.]\n",
      " [1. 1.]]\n",
      "\n",
      "Result of adding two arrays:\n",
      "[5 7 9]\n",
      "\n",
      "Result of multiplying two arrays:\n",
      "[[ 5 12]\n",
      " [21 32]]\n",
      "\n",
      "Result of matrix multiplication:\n",
      "[[19 22]\n",
      " [43 50]]\n"
     ]
    }
   ],
   "source": [
    "# Step 1: Import NumPy\n",
    "import numpy as np\n",
    "\n",
    "# Step 2: Create a 1-dimensional array\n",
    "a = np.array([1, 2, 3, 4, 5])\n",
    "print(\"1-dimensional array:\")\n",
    "print(a)\n",
    "\n",
    "# Step 3: Create a 2-dimensional array\n",
    "b = np.array([[1, 2, 3], [4, 5, 6]])\n",
    "print(\"\\n2-dimensional array:\")\n",
    "print(b)\n",
    "\n",
    "# Step 4: Create an array of zeros\n",
    "c = np.zeros((3, 4))\n",
    "print(\"\\nArray of zeros:\")\n",
    "print(c)\n",
    "\n",
    "# Step 5: Create an array of ones\n",
    "d = np.ones((2, 2))\n",
    "print(\"\\nArray of ones:\")\n",
    "print(d)\n",
    "\n",
    "# Step 6: Perform mathematical operations on arrays\n",
    "# Adding two arrays\n",
    "e = np.array([1, 2, 3])\n",
    "f = np.array([4, 5, 6])\n",
    "result_add = e + f\n",
    "print(\"\\nResult of adding two arrays:\")\n",
    "print(result_add)\n",
    "\n",
    "# Multiplying two arrays\n",
    "g = np.array([[1, 2], [3, 4]])\n",
    "h = np.array([[5, 6], [7, 8]])\n",
    "result_multiply = g * h\n",
    "print(\"\\nResult of multiplying two arrays:\")\n",
    "print(result_multiply)\n",
    "\n",
    "# Matrix multiplication\n",
    "i = np.dot(g, h)\n",
    "print(\"\\nResult of matrix multiplication:\")\n",
    "print(i)\n"
   ]
  }
 ],
 "metadata": {
  "kernelspec": {
   "display_name": "Python 3 (ipykernel)",
   "language": "python",
   "name": "python3"
  },
  "language_info": {
   "codemirror_mode": {
    "name": "ipython",
    "version": 3
   },
   "file_extension": ".py",
   "mimetype": "text/x-python",
   "name": "python",
   "nbconvert_exporter": "python",
   "pygments_lexer": "ipython3",
   "version": "3.9.7"
  }
 },
 "nbformat": 4,
 "nbformat_minor": 5
}
